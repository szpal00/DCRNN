{
 "cells": [
  {
   "cell_type": "code",
   "execution_count": 1,
   "id": "67a9f57b-bb98-48a1-b6bf-4496d7b7fceb",
   "metadata": {},
   "outputs": [
    {
     "name": "stderr",
     "output_type": "stream",
     "text": [
      "/home/szpal00/.conda/envs/dcrnn/lib/python3.6/site-packages/tensorflow/python/framework/dtypes.py:493: FutureWarning: Passing (type, 1) or '1type' as a synonym of type is deprecated; in a future version of numpy, it will be understood as (type, (1,)) / '(1,)type'.\n",
      "  _np_qint8 = np.dtype([(\"qint8\", np.int8, 1)])\n",
      "/home/szpal00/.conda/envs/dcrnn/lib/python3.6/site-packages/tensorflow/python/framework/dtypes.py:494: FutureWarning: Passing (type, 1) or '1type' as a synonym of type is deprecated; in a future version of numpy, it will be understood as (type, (1,)) / '(1,)type'.\n",
      "  _np_quint8 = np.dtype([(\"quint8\", np.uint8, 1)])\n",
      "/home/szpal00/.conda/envs/dcrnn/lib/python3.6/site-packages/tensorflow/python/framework/dtypes.py:495: FutureWarning: Passing (type, 1) or '1type' as a synonym of type is deprecated; in a future version of numpy, it will be understood as (type, (1,)) / '(1,)type'.\n",
      "  _np_qint16 = np.dtype([(\"qint16\", np.int16, 1)])\n",
      "/home/szpal00/.conda/envs/dcrnn/lib/python3.6/site-packages/tensorflow/python/framework/dtypes.py:496: FutureWarning: Passing (type, 1) or '1type' as a synonym of type is deprecated; in a future version of numpy, it will be understood as (type, (1,)) / '(1,)type'.\n",
      "  _np_quint16 = np.dtype([(\"quint16\", np.uint16, 1)])\n",
      "/home/szpal00/.conda/envs/dcrnn/lib/python3.6/site-packages/tensorflow/python/framework/dtypes.py:497: FutureWarning: Passing (type, 1) or '1type' as a synonym of type is deprecated; in a future version of numpy, it will be understood as (type, (1,)) / '(1,)type'.\n",
      "  _np_qint32 = np.dtype([(\"qint32\", np.int32, 1)])\n",
      "/home/szpal00/.conda/envs/dcrnn/lib/python3.6/site-packages/tensorflow/python/framework/dtypes.py:502: FutureWarning: Passing (type, 1) or '1type' as a synonym of type is deprecated; in a future version of numpy, it will be understood as (type, (1,)) / '(1,)type'.\n",
      "  np_resource = np.dtype([(\"resource\", np.ubyte, 1)])\n"
     ]
    }
   ],
   "source": [
    "import numpy as np\n",
    "import tensorflow as tf\n",
    "import random"
   ]
  },
  {
   "cell_type": "code",
   "execution_count": 39,
   "id": "633c8ba2-36e0-4ac3-92d7-e86e4b447899",
   "metadata": {},
   "outputs": [
    {
     "ename": "AttributeError",
     "evalue": "module 'tensorflow' has no attribute 'config'",
     "output_type": "error",
     "traceback": [
      "\u001b[0;31m---------------------------------------------------------------------------\u001b[0m",
      "\u001b[0;31mAttributeError\u001b[0m                            Traceback (most recent call last)",
      "\u001b[0;32m<ipython-input-39-f0804e5f539f>\u001b[0m in \u001b[0;36m<module>\u001b[0;34m\u001b[0m\n\u001b[0;32m----> 1\u001b[0;31m \u001b[0mprint\u001b[0m\u001b[0;34m(\u001b[0m\u001b[0mlen\u001b[0m\u001b[0;34m(\u001b[0m\u001b[0mtf\u001b[0m\u001b[0;34m.\u001b[0m\u001b[0mconfig\u001b[0m\u001b[0;34m.\u001b[0m\u001b[0mlist_physical_devices\u001b[0m\u001b[0;34m(\u001b[0m\u001b[0;34m'GPU'\u001b[0m\u001b[0;34m)\u001b[0m\u001b[0;34m)\u001b[0m\u001b[0;34m)\u001b[0m\u001b[0;34m\u001b[0m\u001b[0;34m\u001b[0m\u001b[0m\n\u001b[0m",
      "\u001b[0;31mAttributeError\u001b[0m: module 'tensorflow' has no attribute 'config'"
     ]
    }
   ],
   "source": [
    "print(len(tf.config.list_physical_devices('GPU')))"
   ]
  },
  {
   "cell_type": "code",
   "execution_count": null,
   "id": "19338e64-9e70-4189-b64f-24c3dac05e4b",
   "metadata": {},
   "outputs": [],
   "source": [
    "1+1"
   ]
  },
  {
   "cell_type": "code",
   "execution_count": null,
   "id": "9a781a54-2738-40b6-b548-afd2c65463fa",
   "metadata": {},
   "outputs": [],
   "source": []
  },
  {
   "cell_type": "code",
   "execution_count": 26,
   "id": "be33ff84-f12d-4968-a342-f37391712d82",
   "metadata": {},
   "outputs": [
    {
     "name": "stdout",
     "output_type": "stream",
     "text": [
      "(23974, 12, 414)\n",
      "(23974, 12, 414)\n",
      "(6850, 12, 414)\n",
      "(6850, 12, 414)\n",
      "(3425, 12, 414)\n",
      "(3425, 12, 414)\n"
     ]
    }
   ],
   "source": [
    "train_data = np.load('data/METR-LA/train.npz')\n",
    "test_data = np.load('data/METR-LA/test.npz')\n",
    "valid_data = np.load('data/METR-LA/val.npz')\n",
    "#reshaping the datasets\n",
    "#def reshape_data(data,pos='x'):\n",
    "#    return np.reshape(data[pos],[data[pos].shape[0]*data[pos].shape[2],data[pos].shape[1],data[pos].shape[3]])\n",
    "def reshape_data(data,pos='x'):\n",
    "    tmp_arr = np.reshape(data[pos],(data[pos].shape[0],data[pos].shape[1],-1))\n",
    "    #return tmp_arr\n",
    "    print(tmp_arr.shape)\n",
    "    return np.reshape(tmp_arr,(-1,tmp_arr.shape[2]))\n",
    "train_x, train_y = reshape_data(train_data,pos='x'),reshape_data(train_data,pos='y')\n",
    "test_x, test_y = reshape_data(test_data,pos='x'),reshape_data(test_data,pos='y')\n",
    "val_x, val_y = reshape_data(valid_data,pos='x'),reshape_data(valid_data,pos='y')"
   ]
  },
  {
   "cell_type": "markdown",
   "id": "a0a014ff-ac08-475a-bfd4-b4f3e486872a",
   "metadata": {},
   "source": [
    "### TODO: szekvenciális legyen az adat!"
   ]
  },
  {
   "cell_type": "markdown",
   "id": "ae9bf542-d4ee-46ce-a835-56e307ce7de9",
   "metadata": {},
   "source": [
    "### TODO: oszloponként normalizálás"
   ]
  },
  {
   "cell_type": "markdown",
   "id": "81402627-e4de-441b-a59b-8adeb2ad97f5",
   "metadata": {},
   "source": [
    "### TODO: loss függvények - normalized/relative mean squere error? relative absolute error?"
   ]
  },
  {
   "cell_type": "code",
   "execution_count": 27,
   "id": "4ca104a1-d9cf-4738-929f-3a176b420bb0",
   "metadata": {},
   "outputs": [
    {
     "data": {
      "text/plain": [
       "['x', 'y', 'x_offsets', 'y_offsets']"
      ]
     },
     "execution_count": 27,
     "metadata": {},
     "output_type": "execute_result"
    }
   ],
   "source": [
    "train_data.files#[0].shape"
   ]
  },
  {
   "cell_type": "code",
   "execution_count": 28,
   "id": "14115a25-9144-423b-a71c-85f591d81327",
   "metadata": {},
   "outputs": [
    {
     "data": {
      "text/plain": [
       "(287688, 414)"
      ]
     },
     "execution_count": 28,
     "metadata": {},
     "output_type": "execute_result"
    }
   ],
   "source": [
    "train_x.shape"
   ]
  },
  {
   "cell_type": "code",
   "execution_count": 29,
   "id": "a8627aa7-bb95-4b5b-8928-611915ff7bf8",
   "metadata": {},
   "outputs": [
    {
     "data": {
      "text/plain": [
       "(287688, 414)"
      ]
     },
     "execution_count": 29,
     "metadata": {},
     "output_type": "execute_result"
    }
   ],
   "source": [
    "train_y.shape"
   ]
  },
  {
   "cell_type": "markdown",
   "id": "162dd0c4-9814-43f6-bf96-69fc0701f6aa",
   "metadata": {},
   "source": [
    "x_ = tf.gather(train_x,[0],axis=2)"
   ]
  },
  {
   "cell_type": "markdown",
   "id": "7a071dd4-d03f-4658-af5f-e849e584958c",
   "metadata": {},
   "source": [
    "y_ = tf.gather(train_y,[0],axis=1)"
   ]
  },
  {
   "cell_type": "markdown",
   "id": "b54e08b3-46ea-4554-bcbc-d7109660e78b",
   "metadata": {},
   "source": [
    "y_ = tf.gather(train_y,[0],axis=2)"
   ]
  },
  {
   "cell_type": "markdown",
   "id": "f2f8bd04-6cf5-4d67-afd6-124dbda1c002",
   "metadata": {},
   "source": [
    "x_.shape,y_.shape"
   ]
  },
  {
   "cell_type": "code",
   "execution_count": 31,
   "id": "e5678c8f-7e80-4013-a062-1c739d2acfb9",
   "metadata": {},
   "outputs": [
    {
     "name": "stdout",
     "output_type": "stream",
     "text": [
      "_________________________________________________________________\n",
      "Layer (type)                 Output Shape              Param #   \n",
      "=================================================================\n",
      "dense_4 (Dense)              (None, 414)               171810    \n",
      "=================================================================\n",
      "Total params: 171,810\n",
      "Trainable params: 171,810\n",
      "Non-trainable params: 0\n",
      "_________________________________________________________________\n"
     ]
    }
   ],
   "source": [
    "lstm_model = tf.keras.models.Sequential([\n",
    "    # Shape => [batch, time, features] => [batch, time, lstm_units]\n",
    "    #tf.keras.layers.LSTM(128,input_shape=list([2000,12,1])[1:], return_sequences=False, dropout=0.5),\n",
    "    # Shape => [batch, time, features]\n",
    "    tf.keras.layers.Dense(units=414, input_shape=(414,), activation = 'relu')\n",
    "])\n",
    "lstm_model.summary()"
   ]
  },
  {
   "cell_type": "code",
   "execution_count": 32,
   "id": "cd5ee9e2-9501-404f-a0f3-d3cb907a5d57",
   "metadata": {},
   "outputs": [],
   "source": [
    "lstm_model.compile(loss='mean_squared_error',optimizer = tf.keras.optimizers.Adam(0.0005), metrics=['mean_squared_error'])"
   ]
  },
  {
   "cell_type": "code",
   "execution_count": 37,
   "id": "5cf6510c-b66d-4dc6-9f88-c6d25618fb18",
   "metadata": {},
   "outputs": [
    {
     "data": {
      "text/plain": [
       "(287688, 414)"
      ]
     },
     "execution_count": 37,
     "metadata": {},
     "output_type": "execute_result"
    }
   ],
   "source": [
    "k = 4096\n",
    "x = train_x#[:k]\n",
    "y = train_y#[:k]\n",
    "x.shape"
   ]
  },
  {
   "cell_type": "code",
   "execution_count": 38,
   "id": "bdf12e39-1f34-430e-82d3-25bf2c2748b1",
   "metadata": {},
   "outputs": [
    {
     "name": "stdout",
     "output_type": "stream",
     "text": [
      "Epoch 1/10\n",
      "287688/287688 [==============================]287688/287688 [==============================] - 15s 52us/step - loss: 163.5321 - mean_squared_error: 163.5321\n",
      "\n",
      "Epoch 2/10\n",
      "287688/287688 [==============================]287688/287688 [==============================] - 15s 53us/step - loss: 131.5409 - mean_squared_error: 131.5409\n",
      "\n",
      "Epoch 3/10\n",
      "287688/287688 [==============================]287688/287688 [==============================] - 15s 52us/step - loss: 127.7181 - mean_squared_error: 127.7181\n",
      "\n",
      "Epoch 4/10\n",
      "287688/287688 [==============================]287688/287688 [==============================] - 15s 53us/step - loss: 126.0651 - mean_squared_error: 126.0651\n",
      "\n",
      "Epoch 5/10\n",
      "287688/287688 [==============================]287688/287688 [==============================] - 15s 53us/step - loss: 125.1136 - mean_squared_error: 125.1136\n",
      "\n",
      "Epoch 6/10\n",
      "287688/287688 [==============================]287688/287688 [==============================] - 15s 53us/step - loss: 124.5492 - mean_squared_error: 124.5492\n",
      "\n",
      "Epoch 7/10\n",
      "287688/287688 [==============================]287688/287688 [==============================] - 15s 52us/step - loss: 124.1338 - mean_squared_error: 124.1338\n",
      "\n",
      "Epoch 8/10\n",
      "287688/287688 [==============================]287688/287688 [==============================] - 15s 52us/step - loss: 123.7966 - mean_squared_error: 123.7966\n",
      "\n",
      "Epoch 9/10\n",
      "287688/287688 [==============================]287688/287688 [==============================] - 15s 52us/step - loss: 123.5029 - mean_squared_error: 123.5029\n",
      "\n",
      "Epoch 10/10\n",
      "287688/287688 [==============================]287688/287688 [==============================] - 15s 53us/step - loss: 123.2943 - mean_squared_error: 123.2943\n",
      "\n"
     ]
    }
   ],
   "source": [
    "results= lstm_model.fit(x, y, epochs=10, batch_size=256)"
   ]
  },
  {
   "cell_type": "code",
   "execution_count": null,
   "id": "d6126d45-4f89-41bb-a533-52191251cb1f",
   "metadata": {},
   "outputs": [],
   "source": []
  }
 ],
 "metadata": {
  "kernelspec": {
   "display_name": "Python 3",
   "language": "python",
   "name": "python3"
  },
  "language_info": {
   "codemirror_mode": {
    "name": "ipython",
    "version": 3
   },
   "file_extension": ".py",
   "mimetype": "text/x-python",
   "name": "python",
   "nbconvert_exporter": "python",
   "pygments_lexer": "ipython3",
   "version": "3.6.13"
  }
 },
 "nbformat": 4,
 "nbformat_minor": 5
}
